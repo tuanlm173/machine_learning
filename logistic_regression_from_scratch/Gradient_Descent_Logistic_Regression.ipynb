{
 "cells": [
  {
   "cell_type": "code",
   "execution_count": 1,
   "metadata": {
    "ExecuteTime": {
     "end_time": "2019-06-10T14:35:38.019850Z",
     "start_time": "2019-06-10T14:35:38.015861Z"
    }
   },
   "outputs": [],
   "source": [
    "import sys\n",
    "\n",
    "sys.path.insert(\n",
    "    0,\n",
    "    r\"C:\\Users\\Tuan Le\\Desktop\\MinhTuan\\machine_learning\\logistic_regression_from_scratch\",\n",
    ")"
   ]
  },
  {
   "cell_type": "code",
   "execution_count": 2,
   "metadata": {
    "ExecuteTime": {
     "end_time": "2019-06-10T14:35:38.590572Z",
     "start_time": "2019-06-10T14:35:38.493323Z"
    }
   },
   "outputs": [],
   "source": [
    "%reload_ext autoreload"
   ]
  },
  {
   "cell_type": "code",
   "execution_count": 3,
   "metadata": {
    "ExecuteTime": {
     "end_time": "2019-06-10T14:35:38.933852Z",
     "start_time": "2019-06-10T14:35:38.928866Z"
    }
   },
   "outputs": [],
   "source": [
    "%autoreload 2"
   ]
  },
  {
   "cell_type": "code",
   "execution_count": 4,
   "metadata": {
    "ExecuteTime": {
     "end_time": "2019-06-10T14:35:40.935921Z",
     "start_time": "2019-06-10T14:35:39.606376Z"
    }
   },
   "outputs": [],
   "source": [
    "import matplotlib.pyplot as plt\n",
    "import sklearn.datasets\n",
    "import numpy as np\n",
    "from sklearn.linear_model import LogisticRegression"
   ]
  },
  {
   "cell_type": "code",
   "execution_count": 5,
   "metadata": {
    "ExecuteTime": {
     "end_time": "2019-06-10T14:35:42.176816Z",
     "start_time": "2019-06-10T14:35:42.038187Z"
    }
   },
   "outputs": [],
   "source": [
    "X = np.array([[0.50, 0.75, 1.00, 1.25, 1.50, 1.75, 1.75, 2.00, 2.25, 2.50, \n",
    "              2.75, 3.00, 3.25, 3.50, 4.00, 4.25, 4.50, 4.75, 5.00, 5.50]]).T\n",
    "y = np.array([0, 0, 0, 0, 0, 0, 1, 0, 1, 0, 1, 0, 1, 0, 1, 1, 1, 1, 1, 1])\n",
    "y = y.reshape((y.size,1))"
   ]
  },
  {
   "cell_type": "code",
   "execution_count": 6,
   "metadata": {
    "ExecuteTime": {
     "end_time": "2019-06-10T14:35:42.920562Z",
     "start_time": "2019-06-10T14:35:42.783888Z"
    }
   },
   "outputs": [
    {
     "name": "stdout",
     "output_type": "stream",
     "text": [
      "(20, 1)\n",
      "(20, 1)\n"
     ]
    }
   ],
   "source": [
    "print(X.shape)\n",
    "print(y.shape)"
   ]
  },
  {
   "cell_type": "code",
   "execution_count": 7,
   "metadata": {
    "ExecuteTime": {
     "end_time": "2019-06-10T14:35:44.092237Z",
     "start_time": "2019-06-10T14:35:43.501484Z"
    }
   },
   "outputs": [],
   "source": [
    "import GD_Logistic_Regression as glr\n",
    "\n",
    "builder = glr.GDLogisticRegression(learning_rate=0.05, iterations=10000)\n",
    "reg = builder.fit(X,y)"
   ]
  },
  {
   "cell_type": "code",
   "execution_count": 8,
   "metadata": {
    "ExecuteTime": {
     "end_time": "2019-06-10T14:35:45.758341Z",
     "start_time": "2019-06-10T14:35:45.607836Z"
    }
   },
   "outputs": [
    {
     "data": {
      "text/plain": [
       "array([[-4.07629178],\n",
       "       [ 1.50416419]])"
      ]
     },
     "execution_count": 8,
     "metadata": {},
     "output_type": "execute_result"
    }
   ],
   "source": [
    "reg[1]"
   ]
  },
  {
   "cell_type": "code",
   "execution_count": 9,
   "metadata": {
    "ExecuteTime": {
     "end_time": "2019-06-10T14:35:46.844480Z",
     "start_time": "2019-06-10T14:35:46.702834Z"
    }
   },
   "outputs": [
    {
     "data": {
      "text/plain": [
       "10000"
      ]
     },
     "execution_count": 9,
     "metadata": {},
     "output_type": "execute_result"
    }
   ],
   "source": [
    "len(reg[0])"
   ]
  },
  {
   "cell_type": "code",
   "execution_count": 10,
   "metadata": {
    "ExecuteTime": {
     "end_time": "2019-06-10T14:35:47.640864Z",
     "start_time": "2019-06-10T14:35:47.513168Z"
    }
   },
   "outputs": [],
   "source": [
    "preds = builder.predict(X, 0.5)"
   ]
  },
  {
   "cell_type": "code",
   "execution_count": 11,
   "metadata": {
    "ExecuteTime": {
     "end_time": "2019-06-10T14:35:50.631608Z",
     "start_time": "2019-06-10T14:35:50.496417Z"
    }
   },
   "outputs": [
    {
     "data": {
      "text/plain": [
       "array([[0],\n",
       "       [0],\n",
       "       [0],\n",
       "       [0],\n",
       "       [0],\n",
       "       [0],\n",
       "       [0],\n",
       "       [0],\n",
       "       [0],\n",
       "       [0],\n",
       "       [1],\n",
       "       [1],\n",
       "       [1],\n",
       "       [1],\n",
       "       [1],\n",
       "       [1],\n",
       "       [1],\n",
       "       [1],\n",
       "       [1],\n",
       "       [1]])"
      ]
     },
     "execution_count": 11,
     "metadata": {},
     "output_type": "execute_result"
    }
   ],
   "source": [
    "preds"
   ]
  },
  {
   "cell_type": "code",
   "execution_count": 12,
   "metadata": {
    "ExecuteTime": {
     "end_time": "2019-06-10T14:35:51.411525Z",
     "start_time": "2019-06-10T14:35:51.272899Z"
    }
   },
   "outputs": [
    {
     "data": {
      "text/plain": [
       "array([[0],\n",
       "       [0],\n",
       "       [0],\n",
       "       [0],\n",
       "       [0],\n",
       "       [0],\n",
       "       [1],\n",
       "       [0],\n",
       "       [1],\n",
       "       [0],\n",
       "       [1],\n",
       "       [0],\n",
       "       [1],\n",
       "       [0],\n",
       "       [1],\n",
       "       [1],\n",
       "       [1],\n",
       "       [1],\n",
       "       [1],\n",
       "       [1]])"
      ]
     },
     "execution_count": 12,
     "metadata": {},
     "output_type": "execute_result"
    }
   ],
   "source": [
    "y"
   ]
  },
  {
   "cell_type": "code",
   "execution_count": 13,
   "metadata": {
    "ExecuteTime": {
     "end_time": "2019-06-10T14:35:52.482200Z",
     "start_time": "2019-06-10T14:35:52.333608Z"
    }
   },
   "outputs": [],
   "source": [
    "from sklearn.datasets import load_iris\n",
    "\n",
    "iris = load_iris()\n",
    "X, y = iris.data[:100, [0, 2]], iris.target[:100]\n",
    "\n",
    "X_std = np.copy(X)\n",
    "X_std[:, 0] = (X[:, 0] - X[:, 0].mean()) / X[:, 0].std()\n",
    "X_std[:, 1] = (X[:, 1] - X[:, 1].mean()) / X[:, 1].std()\n",
    "y = y.reshape(y.size, 1)"
   ]
  },
  {
   "cell_type": "code",
   "execution_count": 14,
   "metadata": {
    "ExecuteTime": {
     "end_time": "2019-06-10T14:35:53.537195Z",
     "start_time": "2019-06-10T14:35:53.397517Z"
    }
   },
   "outputs": [
    {
     "name": "stdout",
     "output_type": "stream",
     "text": [
      "(100, 2)\n",
      "(100, 1)\n"
     ]
    }
   ],
   "source": [
    "print(X_std.shape)\n",
    "print(y.shape)"
   ]
  },
  {
   "cell_type": "code",
   "execution_count": 15,
   "metadata": {
    "ExecuteTime": {
     "end_time": "2019-06-10T14:35:55.273663Z",
     "start_time": "2019-06-10T14:35:54.674200Z"
    }
   },
   "outputs": [],
   "source": [
    "builder_iris = glr.GDLogisticRegression(learning_rate=0.01, iterations=10000)\n",
    "reg = builder_iris.fit(X_std, y)"
   ]
  },
  {
   "cell_type": "code",
   "execution_count": 16,
   "metadata": {
    "ExecuteTime": {
     "end_time": "2019-06-10T14:35:56.095358Z",
     "start_time": "2019-06-10T14:35:55.957341Z"
    },
    "scrolled": true
   },
   "outputs": [
    {
     "data": {
      "text/plain": [
       "10000"
      ]
     },
     "execution_count": 16,
     "metadata": {},
     "output_type": "execute_result"
    }
   ],
   "source": [
    "len(reg[0])"
   ]
  },
  {
   "cell_type": "code",
   "execution_count": 17,
   "metadata": {
    "ExecuteTime": {
     "end_time": "2019-06-10T14:35:56.902198Z",
     "start_time": "2019-06-10T14:35:56.745616Z"
    }
   },
   "outputs": [
    {
     "data": {
      "text/plain": [
       "array([[0.68220112],\n",
       "       [0.97528811],\n",
       "       [4.34740571]])"
      ]
     },
     "execution_count": 17,
     "metadata": {},
     "output_type": "execute_result"
    }
   ],
   "source": [
    "reg[1]"
   ]
  },
  {
   "cell_type": "code",
   "execution_count": 18,
   "metadata": {
    "ExecuteTime": {
     "end_time": "2019-06-10T14:35:58.188338Z",
     "start_time": "2019-06-10T14:35:57.801572Z"
    }
   },
   "outputs": [
    {
     "data": {
      "image/png": "[encoded data removed]",
      "text/plain": [
       "<Figure size 432x288 with 1 Axes>"
      ]
     },
     "metadata": {
      "needs_background": "light"
     },
     "output_type": "display_data"
    }
   ],
   "source": [
    "plt.plot(reg[0])\n",
    "plt.show()"
   ]
  },
  {
   "cell_type": "code",
   "execution_count": 19,
   "metadata": {
    "ExecuteTime": {
     "end_time": "2019-06-10T14:35:59.328489Z",
     "start_time": "2019-06-10T14:35:59.189583Z"
    }
   },
   "outputs": [],
   "source": [
    "from sklearn.linear_model import LogisticRegression"
   ]
  },
  {
   "cell_type": "code",
   "execution_count": 20,
   "metadata": {
    "ExecuteTime": {
     "end_time": "2019-06-10T14:36:00.609848Z",
     "start_time": "2019-06-10T14:36:00.461236Z"
    }
   },
   "outputs": [
    {
     "data": {
      "text/plain": [
       "LogisticRegression(C=1.0, class_weight=None, dual=False, fit_intercept=True,\n",
       "          intercept_scaling=1, max_iter=100, multi_class='warn',\n",
       "          n_jobs=None, penalty='l2', random_state=None, solver='lbfgs',\n",
       "          tol=0.0001, verbose=0, warm_start=False)"
      ]
     },
     "execution_count": 20,
     "metadata": {},
     "output_type": "execute_result"
    }
   ],
   "source": [
    "model = LogisticRegression(solver=\"lbfgs\")\n",
    "model.fit(X_std, y.reshape(y.size))"
   ]
  },
  {
   "cell_type": "code",
   "execution_count": 21,
   "metadata": {
    "ExecuteTime": {
     "end_time": "2019-06-10T14:36:01.445624Z",
     "start_time": "2019-06-10T14:36:01.289042Z"
    }
   },
   "outputs": [
    {
     "data": {
      "text/plain": [
       "array([[0.67374537, 3.24085091]])"
      ]
     },
     "execution_count": 21,
     "metadata": {},
     "output_type": "execute_result"
    }
   ],
   "source": [
    "model.coef_"
   ]
  },
  {
   "cell_type": "code",
   "execution_count": 22,
   "metadata": {
    "ExecuteTime": {
     "end_time": "2019-06-10T14:36:02.276857Z",
     "start_time": "2019-06-10T14:36:02.141221Z"
    }
   },
   "outputs": [
    {
     "data": {
      "text/plain": [
       "array([0.44132])"
      ]
     },
     "execution_count": 22,
     "metadata": {},
     "output_type": "execute_result"
    }
   ],
   "source": [
    "model.intercept_"
   ]
  },
  {
   "cell_type": "code",
   "execution_count": 32,
   "metadata": {
    "ExecuteTime": {
     "end_time": "2019-06-10T15:00:13.554216Z",
     "start_time": "2019-06-10T15:00:06.968688Z"
    }
   },
   "outputs": [],
   "source": [
    "data_test = sklearn.datasets.make_classification(n_samples=200000, n_features=400)"
   ]
  },
  {
   "cell_type": "code",
   "execution_count": 33,
   "metadata": {
    "ExecuteTime": {
     "end_time": "2019-06-10T15:02:09.842479Z",
     "start_time": "2019-06-10T15:00:17.333079Z"
    }
   },
   "outputs": [],
   "source": [
    "builder_test = glr.GDLogisticRegression(learning_rate=0.05, iterations=1000)\n",
    "reg = builder_test.fit(data_test[0], data_test[1].reshape(data_test[1].size, 1))"
   ]
  },
  {
   "cell_type": "code",
   "execution_count": 34,
   "metadata": {
    "ExecuteTime": {
     "end_time": "2019-06-10T15:02:44.919409Z",
     "start_time": "2019-06-10T15:02:44.517436Z"
    }
   },
   "outputs": [
    {
     "data": {
      "image/png": "[encoded data removed]",
      "text/plain": [
       "<Figure size 432x288 with 1 Axes>"
      ]
     },
     "metadata": {
      "needs_background": "light"
     },
     "output_type": "display_data"
    }
   ],
   "source": [
    "plt.plot(reg[0])\n",
    "plt.show()"
   ]
  },
  {
   "cell_type": "code",
   "execution_count": 35,
   "metadata": {
    "ExecuteTime": {
     "end_time": "2019-06-10T15:02:46.691114Z",
     "start_time": "2019-06-10T15:02:46.422238Z"
    }
   },
   "outputs": [
    {
     "data": {
      "text/plain": [
       "array([[ 6.96299020e-02],\n",
       "       [-3.69871160e-03],\n",
       "       [ 1.25126836e-02],\n",
       "       [ 1.11142289e-02],\n",
       "       [-5.91442486e-03],\n",
       "       [ 3.99675383e-03],\n",
       "       [ 5.67935162e-03],\n",
       "       [-1.64414314e-01],\n",
       "       [-1.08251262e-02],\n",
       "       [-2.46229504e-04],\n",
       "       [-7.60287358e-03],\n",
       "       [-6.54954233e-03],\n",
       "       [-4.37368101e-03],\n",
       "       [ 1.58943711e-02],\n",
       "       [-3.46475601e-03],\n",
       "       [ 7.34683496e-03],\n",
       "       [ 8.95845963e-03],\n",
       "       [ 4.74222517e-03],\n",
       "       [ 5.86499188e-03],\n",
       "       [ 1.44331065e-02],\n",
       "       [-1.25633344e-03],\n",
       "       [-1.31374676e-02],\n",
       "       [ 3.75259978e-03],\n",
       "       [-5.67425260e-03],\n",
       "       [-1.10576613e-02],\n",
       "       [-2.56089691e-04],\n",
       "       [ 3.79049591e-03],\n",
       "       [-1.88262895e-03],\n",
       "       [ 1.78964113e-03],\n",
       "       [-4.63850912e-03],\n",
       "       [-1.91703826e-03],\n",
       "       [ 1.96843300e-03],\n",
       "       [ 6.08307743e-03],\n",
       "       [-4.27907487e-03],\n",
       "       [-3.01686156e-03],\n",
       "       [ 2.64898532e-03],\n",
       "       [ 6.24516962e-03],\n",
       "       [ 1.33588649e-02],\n",
       "       [-1.63452602e-03],\n",
       "       [ 5.72862245e-03],\n",
       "       [-5.63963936e-03],\n",
       "       [-2.24100694e-03],\n",
       "       [-1.13142239e-02],\n",
       "       [-2.59631842e-04],\n",
       "       [ 9.36660576e-03],\n",
       "       [-1.06267362e-02],\n",
       "       [ 4.30764817e-03],\n",
       "       [ 9.27211689e-03],\n",
       "       [ 9.08036023e-03],\n",
       "       [ 1.51939420e-03],\n",
       "       [-1.79467177e-03],\n",
       "       [ 1.93964791e-03],\n",
       "       [ 2.35343480e-03],\n",
       "       [ 2.35986497e-03],\n",
       "       [ 1.42441880e-03],\n",
       "       [-1.97373936e-03],\n",
       "       [-2.03133321e-03],\n",
       "       [ 3.38261057e-03],\n",
       "       [-6.97861548e-03],\n",
       "       [ 4.55066631e-04],\n",
       "       [ 3.07671678e-03],\n",
       "       [-2.90867871e-03],\n",
       "       [ 4.75641523e-03],\n",
       "       [ 1.32882070e-03],\n",
       "       [-7.22513585e-03],\n",
       "       [ 7.62657162e-03],\n",
       "       [-5.18828599e-03],\n",
       "       [ 1.17664108e-02],\n",
       "       [-3.81837517e-03],\n",
       "       [-3.91503379e-03],\n",
       "       [ 1.18377928e-02],\n",
       "       [-6.39330713e-03],\n",
       "       [-1.79625219e-02],\n",
       "       [-5.44939194e-03],\n",
       "       [ 3.02680900e-03],\n",
       "       [-5.66311180e-03],\n",
       "       [ 1.38732164e-03],\n",
       "       [ 7.20425618e-03],\n",
       "       [-2.27498155e-03],\n",
       "       [-1.44000993e-03],\n",
       "       [ 6.66268226e-03],\n",
       "       [-6.86036657e-03],\n",
       "       [-1.44208315e-02],\n",
       "       [-8.78302189e-03],\n",
       "       [ 1.47015457e-02],\n",
       "       [-9.32363882e-03],\n",
       "       [ 5.26411371e-03],\n",
       "       [-2.73199753e-03],\n",
       "       [ 1.20465843e-02],\n",
       "       [-3.68206553e-03],\n",
       "       [ 9.68667598e-03],\n",
       "       [-5.95267436e-03],\n",
       "       [-6.68233845e-04],\n",
       "       [ 1.14003925e-02],\n",
       "       [ 1.77377425e-02],\n",
       "       [ 1.21602187e-01],\n",
       "       [ 9.63519614e-03],\n",
       "       [ 5.22825554e-03],\n",
       "       [ 2.56536886e-03],\n",
       "       [ 2.09818480e-03],\n",
       "       [-2.47070835e-03],\n",
       "       [ 3.61504567e-03],\n",
       "       [ 7.77366128e-03],\n",
       "       [-8.58459332e-03],\n",
       "       [ 2.74257719e-04],\n",
       "       [ 2.52862300e-03],\n",
       "       [-8.66412448e-04],\n",
       "       [-3.51020607e-03],\n",
       "       [ 6.99989546e-03],\n",
       "       [ 4.65290476e-03],\n",
       "       [ 9.14114673e-03],\n",
       "       [ 5.36989386e-03],\n",
       "       [ 2.78683613e-03],\n",
       "       [-1.10894461e-03],\n",
       "       [ 2.00959361e-02],\n",
       "       [ 7.59701805e-03],\n",
       "       [ 6.58143655e-03],\n",
       "       [ 1.25602020e-02],\n",
       "       [ 1.13791873e-03],\n",
       "       [ 7.58102345e-03],\n",
       "       [ 1.85662767e-02],\n",
       "       [-5.73842976e-03],\n",
       "       [-3.15122345e-03],\n",
       "       [-2.25752870e-03],\n",
       "       [ 3.20936562e-03],\n",
       "       [-7.02192691e-03],\n",
       "       [-4.92680803e-03],\n",
       "       [-9.62285794e-04],\n",
       "       [ 8.14854080e-03],\n",
       "       [-2.92962748e-03],\n",
       "       [ 1.62225044e-03],\n",
       "       [-2.82793653e-03],\n",
       "       [-5.48499379e-03],\n",
       "       [ 5.13423879e-03],\n",
       "       [-9.93486277e-03],\n",
       "       [ 7.19523606e-03],\n",
       "       [-9.79528924e-03],\n",
       "       [-1.79398461e-03],\n",
       "       [-2.53355205e-03],\n",
       "       [ 4.87847564e-03],\n",
       "       [ 6.44229785e-03],\n",
       "       [-7.37383498e-04],\n",
       "       [ 3.81333818e-03],\n",
       "       [-8.07138141e-04],\n",
       "       [ 3.42783150e-03],\n",
       "       [ 6.03137632e-03],\n",
       "       [-1.84681206e-03],\n",
       "       [ 3.98303907e-03],\n",
       "       [-1.15985822e-02],\n",
       "       [ 4.20594318e-03],\n",
       "       [-4.32969282e-03],\n",
       "       [ 1.98137135e-03],\n",
       "       [-6.15972446e-03],\n",
       "       [-8.69848526e-03],\n",
       "       [ 1.70439562e-03],\n",
       "       [ 1.04117142e-02],\n",
       "       [ 3.99982699e-03],\n",
       "       [ 7.13504359e-03],\n",
       "       [-8.36869419e-03],\n",
       "       [ 4.18313375e-03],\n",
       "       [ 1.17284595e-03],\n",
       "       [-6.52472674e-03],\n",
       "       [ 5.77433982e-03],\n",
       "       [-5.55895180e-04],\n",
       "       [-7.51439899e-03],\n",
       "       [ 7.53839606e-03],\n",
       "       [ 1.96822073e-03],\n",
       "       [ 1.08968089e-02],\n",
       "       [-1.23449762e-02],\n",
       "       [ 7.39708063e-03],\n",
       "       [-2.05690086e-04],\n",
       "       [-8.24932428e-03],\n",
       "       [ 2.09565445e-03],\n",
       "       [ 7.46966568e-03],\n",
       "       [-7.45792500e-03],\n",
       "       [-1.29074381e-02],\n",
       "       [ 4.10661401e-03],\n",
       "       [-1.48306613e-02],\n",
       "       [-7.79040415e-03],\n",
       "       [-7.14863372e-03],\n",
       "       [ 1.22969568e-02],\n",
       "       [-4.36065172e-03],\n",
       "       [ 7.92129903e-03],\n",
       "       [-7.26748802e-03],\n",
       "       [-7.11239048e-03],\n",
       "       [ 6.46380341e-03],\n",
       "       [-1.36161312e-03],\n",
       "       [-3.51713766e-03],\n",
       "       [-5.74203922e-04],\n",
       "       [-1.06016180e-02],\n",
       "       [-1.03834549e-02],\n",
       "       [-1.55945451e-03],\n",
       "       [-1.15865112e-02],\n",
       "       [-4.85440828e-04],\n",
       "       [ 5.15965540e-03],\n",
       "       [-5.86509689e-03],\n",
       "       [-4.68817014e-03],\n",
       "       [ 4.20776798e-03],\n",
       "       [ 7.21538624e-03],\n",
       "       [-1.63268544e-03],\n",
       "       [-2.11479531e-03],\n",
       "       [-3.28841563e-03],\n",
       "       [-7.84128468e-03],\n",
       "       [-2.46457053e-03],\n",
       "       [ 4.62126127e-03],\n",
       "       [-1.54994908e-03],\n",
       "       [ 1.51045687e-02],\n",
       "       [ 1.44705198e-02],\n",
       "       [ 6.98486304e-03],\n",
       "       [-6.26519388e-03],\n",
       "       [-8.62192698e-04],\n",
       "       [-8.59061438e-03],\n",
       "       [-2.53766373e-03],\n",
       "       [-1.64764464e-03],\n",
       "       [ 3.02710979e-03],\n",
       "       [-4.51892771e-03],\n",
       "       [-9.51547550e-05],\n",
       "       [-4.93995655e-03],\n",
       "       [-1.61100188e-04],\n",
       "       [ 9.90931588e-03],\n",
       "       [-6.63667080e-04],\n",
       "       [-1.04803151e-02],\n",
       "       [-3.30441857e-03],\n",
       "       [ 1.41134426e-03],\n",
       "       [-4.62138087e-03],\n",
       "       [ 3.46305632e-03],\n",
       "       [-8.86553801e-03],\n",
       "       [-2.43141888e-03],\n",
       "       [ 2.66489902e-03],\n",
       "       [ 4.56459656e-03],\n",
       "       [ 6.02427583e-03],\n",
       "       [ 5.88197139e-03],\n",
       "       [ 1.60429455e-02],\n",
       "       [-2.36863434e-03],\n",
       "       [-2.65804382e-03],\n",
       "       [ 6.14828800e-03],\n",
       "       [-6.87074326e-03],\n",
       "       [ 1.51726377e-02],\n",
       "       [ 6.71833024e-03],\n",
       "       [-9.61951410e-03],\n",
       "       [-2.57615524e-03],\n",
       "       [-6.37094611e-03],\n",
       "       [-4.55210494e-03],\n",
       "       [-4.90705271e-03],\n",
       "       [-5.58918915e-03],\n",
       "       [-3.30828865e-04],\n",
       "       [ 7.76230756e-04],\n",
       "       [ 3.72977369e-03],\n",
       "       [-3.68139683e-03],\n",
       "       [-2.01364103e-03],\n",
       "       [-6.12999237e-03],\n",
       "       [-1.07922837e-02],\n",
       "       [-3.81473902e-03],\n",
       "       [-4.37611195e-03],\n",
       "       [-2.49008271e-03],\n",
       "       [-1.30754802e-02],\n",
       "       [ 2.64249830e-03],\n",
       "       [-2.87085457e-04],\n",
       "       [ 2.85361832e-03],\n",
       "       [ 9.08539211e-03],\n",
       "       [-9.23036334e-04],\n",
       "       [-6.51105064e-03],\n",
       "       [ 1.74660015e-02],\n",
       "       [-3.34096761e-03],\n",
       "       [ 1.18429933e-02],\n",
       "       [ 1.08589136e-03],\n",
       "       [ 4.01341170e-03],\n",
       "       [-6.08865863e-03],\n",
       "       [ 1.49238804e-03],\n",
       "       [ 1.20159631e-03],\n",
       "       [-3.87275487e-03],\n",
       "       [ 4.94569880e-03],\n",
       "       [ 3.22273588e-03],\n",
       "       [-1.90019444e-03],\n",
       "       [ 5.64032321e-03],\n",
       "       [ 7.31523161e-03],\n",
       "       [-2.45417638e-03],\n",
       "       [ 7.51073265e-03],\n",
       "       [ 4.96431141e-03],\n",
       "       [-5.29948355e-03],\n",
       "       [-6.84003732e-03],\n",
       "       [ 1.35414464e-03],\n",
       "       [ 4.05782793e-03],\n",
       "       [-1.00201993e-02],\n",
       "       [-6.08805357e-03],\n",
       "       [ 1.89922659e-03],\n",
       "       [ 3.56823706e-03],\n",
       "       [-6.70544088e-03],\n",
       "       [ 9.29072758e-03],\n",
       "       [ 3.56691681e-04],\n",
       "       [-7.70169780e-03],\n",
       "       [ 4.98522088e-03],\n",
       "       [-1.25613071e-02],\n",
       "       [ 2.07535797e-03],\n",
       "       [ 1.13180126e-02],\n",
       "       [ 2.07764311e-03],\n",
       "       [-7.82487016e-03],\n",
       "       [-1.08148222e-02],\n",
       "       [ 1.42005617e-02],\n",
       "       [-6.46189537e-05],\n",
       "       [-1.32429120e-03],\n",
       "       [-6.79346022e-03],\n",
       "       [-2.60477441e-03],\n",
       "       [-4.33966529e-04],\n",
       "       [ 9.99021246e-01],\n",
       "       [ 5.27118335e-03],\n",
       "       [-1.29725694e-03],\n",
       "       [ 8.10023914e-03],\n",
       "       [ 5.27528059e-03],\n",
       "       [-1.17032203e-02],\n",
       "       [ 2.22891561e-03],\n",
       "       [-8.40339481e-03],\n",
       "       [-2.54030565e-03],\n",
       "       [-5.51804502e-03],\n",
       "       [ 9.99523112e-03],\n",
       "       [-3.43871472e-03],\n",
       "       [-8.54598365e-03],\n",
       "       [-8.86514978e-03],\n",
       "       [ 1.39641954e-03],\n",
       "       [ 6.04704616e-03],\n",
       "       [-6.29095400e-03],\n",
       "       [-1.27769147e-02],\n",
       "       [ 1.41850044e-03],\n",
       "       [ 8.15807607e-04],\n",
       "       [ 1.16282952e-02],\n",
       "       [ 4.86008243e-03],\n",
       "       [-4.73333219e-03],\n",
       "       [-5.04378965e-03],\n",
       "       [-1.26585669e-02],\n",
       "       [ 2.03959461e-03],\n",
       "       [-1.06176147e-02],\n",
       "       [ 7.83381895e-03],\n",
       "       [ 1.63701835e-03],\n",
       "       [-2.44151692e-03],\n",
       "       [-9.70078458e-04],\n",
       "       [ 7.05682830e-06],\n",
       "       [ 9.30089457e-03],\n",
       "       [ 2.77092795e-03],\n",
       "       [ 9.77879813e-04],\n",
       "       [-5.66854481e-04],\n",
       "       [ 8.38490899e-03],\n",
       "       [ 1.05603630e-03],\n",
       "       [ 9.10460909e-03],\n",
       "       [ 8.31995138e-03],\n",
       "       [-1.29462472e-02],\n",
       "       [-6.60364430e-03],\n",
       "       [ 9.11639792e-03],\n",
       "       [-1.98577317e-03],\n",
       "       [-1.93952187e-03],\n",
       "       [ 6.71932932e-03],\n",
       "       [-4.11567288e-03],\n",
       "       [ 5.16681047e-03],\n",
       "       [-1.17824459e-02],\n",
       "       [ 6.88884415e-03],\n",
       "       [ 2.32845211e+00],\n",
       "       [ 6.61327961e-04],\n",
       "       [-4.08398628e-03],\n",
       "       [ 7.14990677e-04],\n",
       "       [-6.83102949e-03],\n",
       "       [ 4.21403308e-04],\n",
       "       [-5.09684012e-03],\n",
       "       [ 8.12499421e-03],\n",
       "       [-8.01035687e-03],\n",
       "       [ 2.97441415e-03],\n",
       "       [-1.18829091e-02],\n",
       "       [ 1.01360873e-03],\n",
       "       [ 3.78250561e-03],\n",
       "       [-9.60836216e-04],\n",
       "       [-7.40560686e-03],\n",
       "       [-4.06619040e-03],\n",
       "       [ 5.83864045e-03],\n",
       "       [-2.51901301e-03],\n",
       "       [ 1.22467180e-03],\n",
       "       [-4.54413024e-03],\n",
       "       [-3.02834016e-03],\n",
       "       [-1.24846767e-03],\n",
       "       [ 7.55610482e-04],\n",
       "       [ 1.84017229e-03],\n",
       "       [ 1.98646177e-04],\n",
       "       [-1.10682078e-02],\n",
       "       [-3.29702228e-03],\n",
       "       [ 2.60982904e-03],\n",
       "       [-1.53389234e-03],\n",
       "       [-8.27691862e-03],\n",
       "       [ 6.13047939e-03],\n",
       "       [ 1.03583552e-02],\n",
       "       [-3.15705145e-03],\n",
       "       [-3.07908466e-03],\n",
       "       [-7.27075174e-03],\n",
       "       [-5.56051447e-03],\n",
       "       [-9.04666949e-03],\n",
       "       [ 9.74344813e-03],\n",
       "       [ 1.48486843e-03],\n",
       "       [ 6.55810003e-03],\n",
       "       [-6.13603654e-03],\n",
       "       [-2.06172939e-03],\n",
       "       [ 2.57027203e-03],\n",
       "       [-6.45816778e-03],\n",
       "       [ 8.22681603e-04],\n",
       "       [-7.31294376e-03],\n",
       "       [-1.01355758e-03]])"
      ]
     },
     "execution_count": 35,
     "metadata": {},
     "output_type": "execute_result"
    }
   ],
   "source": [
    "reg[1]"
   ]
  },
  {
   "cell_type": "code",
   "execution_count": 36,
   "metadata": {
    "ExecuteTime": {
     "end_time": "2019-06-10T15:02:53.084450Z",
     "start_time": "2019-06-10T15:02:51.461265Z"
    }
   },
   "outputs": [
    {
     "data": {
      "text/plain": [
       "LogisticRegression(C=1.0, class_weight=None, dual=False, fit_intercept=True,\n",
       "          intercept_scaling=1, max_iter=100, multi_class='warn',\n",
       "          n_jobs=None, penalty='l2', random_state=None, solver='lbfgs',\n",
       "          tol=0.0001, verbose=0, warm_start=False)"
      ]
     },
     "execution_count": 36,
     "metadata": {},
     "output_type": "execute_result"
    }
   ],
   "source": [
    "model_test = LogisticRegression(solver=\"lbfgs\")\n",
    "model_test.fit(data_test[0], data_test[1])"
   ]
  },
  {
   "cell_type": "code",
   "execution_count": 37,
   "metadata": {
    "ExecuteTime": {
     "end_time": "2019-06-10T15:02:55.144243Z",
     "start_time": "2019-06-10T15:02:54.869003Z"
    }
   },
   "outputs": [
    {
     "data": {
      "text/plain": [
       "(array([0.08848974]),\n",
       " array([[-3.79287179e-03,  1.49014056e-02,  1.30665368e-02,\n",
       "         -7.05255395e-03,  4.73026562e-03,  5.84035867e-03,\n",
       "         -1.79963596e-01, -1.25092355e-02, -3.89316640e-04,\n",
       "         -8.97315818e-03, -6.48954100e-03, -4.63698503e-03,\n",
       "          1.82264696e-02, -3.44019134e-03,  8.05068857e-03,\n",
       "          9.36485473e-03,  4.70439767e-03,  6.80184078e-03,\n",
       "          1.61250393e-02, -2.18353467e-03, -1.40183639e-02,\n",
       "          4.76366334e-03, -5.72521712e-03, -1.15686289e-02,\n",
       "          5.64883428e-04,  4.23558262e-03, -1.78174036e-03,\n",
       "          1.81127797e-03, -5.67812847e-03, -2.27590990e-03,\n",
       "          1.62297936e-03,  6.73061744e-03, -5.24963158e-03,\n",
       "         -3.39456082e-03,  3.46460860e-03,  7.22691637e-03,\n",
       "          1.49189632e-02, -2.80152780e-03,  7.02041297e-03,\n",
       "         -6.30904045e-03, -2.91042147e-03, -1.29893408e-02,\n",
       "         -6.34892766e-05,  9.70602282e-03, -1.23396275e-02,\n",
       "          4.13576048e-03,  1.00912669e-02,  1.04271603e-02,\n",
       "          1.53348390e-03, -2.40246214e-03,  1.99083069e-03,\n",
       "          2.49233140e-03,  3.05813469e-03,  1.71918835e-03,\n",
       "         -2.10372434e-03, -2.35916285e-03,  3.89774441e-03,\n",
       "         -8.02056334e-03, -2.31347419e-04,  4.71183459e-03,\n",
       "         -3.98720470e-03,  5.20213410e-03,  1.86619998e-03,\n",
       "         -8.47526710e-03,  8.99010112e-03, -6.72123658e-03,\n",
       "          1.33569207e-02, -4.50436290e-03, -3.25408461e-03,\n",
       "          1.40704708e-02, -7.43769387e-03, -1.98882736e-02,\n",
       "         -6.21601231e-03,  2.52472532e-03, -6.90230836e-03,\n",
       "          1.55603744e-03,  8.35018377e-03, -2.54860714e-03,\n",
       "         -1.66304419e-03,  7.14925401e-03, -8.00846452e-03,\n",
       "         -1.61129884e-02, -9.40693404e-03,  1.70239866e-02,\n",
       "         -9.80082166e-03,  5.84477114e-03, -2.78692237e-03,\n",
       "          1.44167940e-02, -4.80786809e-03,  1.06087012e-02,\n",
       "         -6.41986898e-03, -5.64529428e-04,  1.33842825e-02,\n",
       "          2.02106220e-02,  1.33555299e-01,  1.12903859e-02,\n",
       "          5.78302046e-03,  3.01905996e-03,  2.66209291e-03,\n",
       "         -2.88931496e-03,  3.97215138e-03,  8.11675568e-03,\n",
       "         -9.65925732e-03,  2.61771906e-04,  2.47617683e-03,\n",
       "         -2.31658245e-04, -4.19832198e-03,  7.97459456e-03,\n",
       "          5.07315048e-03,  1.08081664e-02,  6.91791856e-03,\n",
       "          3.23463797e-03, -1.40430806e-03,  2.30339573e-02,\n",
       "          7.97862479e-03,  7.62065816e-03,  1.38818096e-02,\n",
       "          3.87959192e-04,  8.93345967e-03,  2.03177505e-02,\n",
       "         -5.83289154e-03, -3.48379454e-03, -2.73521583e-03,\n",
       "          4.25373531e-03, -7.59450788e-03, -4.98884083e-03,\n",
       "         -1.75869971e-03,  8.27045793e-03, -2.94400678e-03,\n",
       "          2.39359278e-03, -3.01097935e-03, -6.82391746e-03,\n",
       "          5.31900393e-03, -1.14640951e-02,  7.69817549e-03,\n",
       "         -1.12223539e-02, -2.37573979e-03, -3.46124904e-03,\n",
       "          5.33280888e-03,  7.48490509e-03, -4.82600564e-04,\n",
       "          3.87820176e-03, -1.09862563e-03,  2.99083830e-03,\n",
       "          6.96491922e-03, -2.91890032e-03,  4.22609509e-03,\n",
       "         -1.29748062e-02,  3.37346676e-03, -5.30154071e-03,\n",
       "          1.84050874e-03, -6.68598804e-03, -1.02563849e-02,\n",
       "          1.81061237e-03,  1.23188565e-02,  4.49859051e-03,\n",
       "          8.74337675e-03, -8.46065914e-03,  5.34244014e-03,\n",
       "          1.01457751e-03, -7.55700813e-03,  6.51515489e-03,\n",
       "         -6.47340210e-04, -8.42338975e-03,  9.32378354e-03,\n",
       "          2.23729901e-03,  1.23262461e-02, -1.35143825e-02,\n",
       "          8.67191469e-03, -5.31323669e-04, -9.22573913e-03,\n",
       "          2.70866940e-03,  9.43143936e-03, -9.10073795e-03,\n",
       "         -1.51837085e-02,  4.34758588e-03, -1.72283982e-02,\n",
       "         -8.02883399e-03, -8.32832285e-03,  1.42114724e-02,\n",
       "         -4.80657850e-03,  9.02587100e-03, -8.10204502e-03,\n",
       "         -7.65193769e-03,  8.50136798e-03, -1.66365385e-03,\n",
       "         -4.23066889e-03, -5.18882042e-04, -1.17517884e-02,\n",
       "         -1.12646407e-02, -3.25461659e-03, -1.27095556e-02,\n",
       "         -7.39454478e-04,  6.36748802e-03, -6.86113084e-03,\n",
       "         -5.68119471e-03,  5.15203870e-03,  8.01488518e-03,\n",
       "         -1.93835283e-03, -2.56557569e-03, -3.36766763e-03,\n",
       "         -8.31950533e-03, -3.08976484e-03,  5.17953939e-03,\n",
       "         -1.24797871e-03,  1.74053934e-02,  1.73314663e-02,\n",
       "          7.48607645e-03, -6.81741799e-03, -3.84555673e-04,\n",
       "         -9.73794856e-03, -3.11308969e-03, -1.12848144e-03,\n",
       "          3.95038508e-03, -4.70121635e-03, -2.97069833e-04,\n",
       "         -5.75979400e-03, -1.89769505e-04,  1.12444509e-02,\n",
       "         -7.11643871e-04, -1.14698449e-02, -3.65139197e-03,\n",
       "          1.72154902e-03, -5.67959875e-03,  4.44336307e-03,\n",
       "         -1.03554500e-02, -2.95606163e-03,  4.13473357e-03,\n",
       "          5.46619574e-03,  7.49506974e-03,  6.46921551e-03,\n",
       "          1.83349003e-02, -2.82607894e-03, -3.83850909e-03,\n",
       "          7.01415340e-03, -7.85726493e-03,  1.67423909e-02,\n",
       "          6.99917774e-03, -1.14235245e-02, -3.37768837e-03,\n",
       "         -6.77678668e-03, -5.83818903e-03, -5.95989012e-03,\n",
       "         -5.49397007e-03, -1.58354295e-03,  9.01467565e-04,\n",
       "          4.53160710e-03, -4.36636476e-03, -1.71167895e-03,\n",
       "         -7.31852431e-03, -1.23326447e-02, -5.31616429e-03,\n",
       "         -4.83696299e-03, -2.72485012e-03, -1.46444047e-02,\n",
       "          2.42982857e-03,  1.29654801e-04,  3.35293721e-03,\n",
       "          9.10474084e-03, -3.43548284e-04, -7.25385517e-03,\n",
       "          2.02189393e-02, -3.97058900e-03,  1.30496354e-02,\n",
       "          1.33182633e-03,  4.40100418e-03, -7.06757493e-03,\n",
       "          1.39139718e-03,  1.46486235e-03, -4.29332560e-03,\n",
       "          6.23050994e-03,  4.28192128e-03, -1.88065214e-03,\n",
       "          5.80573566e-03,  7.98800168e-03, -2.92237001e-03,\n",
       "          8.59869497e-03,  6.07002033e-03, -6.02315197e-03,\n",
       "         -8.43314401e-03,  7.80574148e-04,  3.17883487e-03,\n",
       "         -1.12485426e-02, -6.38687235e-03,  3.25158573e-03,\n",
       "          3.76067172e-03, -7.39720689e-03,  1.12692865e-02,\n",
       "         -1.85144234e-04, -8.55459149e-03,  6.39366234e-03,\n",
       "         -1.40730441e-02,  2.65855368e-03,  1.34915108e-02,\n",
       "          1.67276814e-03, -9.21402874e-03, -1.12587224e-02,\n",
       "          1.59133936e-02, -4.21633091e-04, -1.48291564e-03,\n",
       "         -7.17654445e-03, -2.90277073e-03, -2.98380227e-04,\n",
       "          1.06700383e+00,  5.35493756e-03, -1.76789544e-03,\n",
       "          9.48441450e-03,  6.60029540e-03, -1.20697074e-02,\n",
       "          2.16598801e-03, -9.90504891e-03, -3.05697774e-03,\n",
       "         -6.35699844e-03,  1.21864131e-02, -3.71130011e-03,\n",
       "         -1.01726490e-02, -1.05151291e-02,  1.50961961e-03,\n",
       "          7.63313154e-03, -6.62373531e-03, -1.40945520e-02,\n",
       "          1.52356011e-03,  1.25358805e-03,  1.34894366e-02,\n",
       "          6.04907923e-03, -4.92490346e-03, -4.86584397e-03,\n",
       "         -1.39616524e-02,  2.33776676e-03, -1.22738845e-02,\n",
       "          9.74433546e-03,  2.09178276e-03, -2.42497759e-03,\n",
       "         -1.86328106e-03, -6.31250900e-04,  9.58190561e-03,\n",
       "          2.83641706e-03,  4.47388248e-04, -2.70921446e-04,\n",
       "          9.89264392e-03,  8.99237389e-04,  9.98267138e-03,\n",
       "          9.81224697e-03, -1.43357750e-02, -7.76435643e-03,\n",
       "          1.07997006e-02, -2.60067744e-03, -2.18907577e-03,\n",
       "          7.74222046e-03, -4.62294038e-03,  5.81819629e-03,\n",
       "         -1.34521231e-02,  7.79775327e-03,  2.49335277e+00,\n",
       "          1.44015926e-03, -5.38018026e-03,  2.18777329e-04,\n",
       "         -7.85757320e-03,  7.35817647e-04, -5.19149640e-03,\n",
       "          8.74070094e-03, -8.43267717e-03,  3.75578977e-03,\n",
       "         -1.37760538e-02,  1.99942619e-03,  4.21884178e-03,\n",
       "         -6.23855135e-04, -8.17472681e-03, -4.18925087e-03,\n",
       "          6.67367254e-03, -3.93985593e-03,  7.20657567e-04,\n",
       "         -4.67198567e-03, -3.11289935e-03, -1.78918883e-03,\n",
       "          2.62985669e-04,  2.20278797e-03,  3.60988328e-05,\n",
       "         -1.23105976e-02, -2.72586869e-03,  3.58202904e-03,\n",
       "         -1.83240101e-03, -9.73542596e-03,  7.12954842e-03,\n",
       "          1.16961860e-02, -3.03248081e-03, -2.93981019e-03,\n",
       "         -8.01273712e-03, -6.94574238e-03, -1.15344966e-02,\n",
       "          1.06418320e-02,  1.57215269e-03,  6.64541172e-03,\n",
       "         -6.94004598e-03, -2.78624819e-03,  3.52163117e-03,\n",
       "         -7.00518846e-03,  8.92453658e-04, -8.71646066e-03,\n",
       "         -5.13388771e-04]]))"
      ]
     },
     "execution_count": 37,
     "metadata": {},
     "output_type": "execute_result"
    }
   ],
   "source": [
    "model_test.intercept_, model_test.coef_ "
   ]
  },
  {
   "cell_type": "code",
   "execution_count": null,
   "metadata": {},
   "outputs": [],
   "source": []
  }
 ],
 "metadata": {
  "kernelspec": {
   "display_name": "Python 3",
   "language": "python",
   "name": "python3"
  },
  "language_info": {
   "codemirror_mode": {
    "name": "ipython",
    "version": 3
   },
   "file_extension": ".py",
   "mimetype": "text/x-python",
   "name": "python",
   "nbconvert_exporter": "python",
   "pygments_lexer": "ipython3",
   "version": "3.7.0"
  },
  "varInspector": {
   "cols": {
    "lenName": 16,
    "lenType": 16,
    "lenVar": 40
   },
   "kernels_config": {
    "python": {
     "delete_cmd_postfix": "",
     "delete_cmd_prefix": "del ",
     "library": "var_list.py",
     "varRefreshCmd": "print(var_dic_list())"
    },
    "r": {
     "delete_cmd_postfix": ") ",
     "delete_cmd_prefix": "rm(",
     "library": "var_list.r",
     "varRefreshCmd": "cat(var_dic_list()) "
    }
   },
   "types_to_exclude": [
    "module",
    "function",
    "builtin_function_or_method",
    "instance",
    "_Feature"
   ],
   "window_display": false
  }
 },
 "nbformat": 4,
 "nbformat_minor": 2
}
