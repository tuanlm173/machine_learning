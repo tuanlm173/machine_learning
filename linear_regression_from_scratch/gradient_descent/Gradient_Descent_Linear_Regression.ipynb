{
 "cells": [
  {
   "cell_type": "code",
   "execution_count": 1,
   "metadata": {
    "ExecuteTime": {
     "end_time": "2019-06-14T13:25:29.663423Z",
     "start_time": "2019-06-14T13:25:26.874648Z"
    }
   },
   "outputs": [],
   "source": [
    "import sys\n",
    "import sklearn.datasets\n",
    "import matplotlib.pyplot as plt\n",
    "import pandas as pd\n",
    "\n",
    "sys.path.insert(\n",
    "    0,\n",
    "    r\"C:\\Users\\DELL\\Desktop\\Sentifi\\machine_learning\\linear_regression_from_scratch\\gradient_descent\",\n",
    ")"
   ]
  },
  {
   "cell_type": "code",
   "execution_count": 29,
   "metadata": {
    "ExecuteTime": {
     "end_time": "2019-05-31T14:39:50.188902Z",
     "start_time": "2019-05-31T14:39:49.729132Z"
    }
   },
   "outputs": [],
   "source": [
    "%reload_ext autoreload"
   ]
  },
  {
   "cell_type": "code",
   "execution_count": 30,
   "metadata": {
    "ExecuteTime": {
     "end_time": "2019-05-31T14:39:51.304948Z",
     "start_time": "2019-05-31T14:39:50.947872Z"
    }
   },
   "outputs": [],
   "source": [
    "%autoreload 2"
   ]
  },
  {
   "cell_type": "markdown",
   "metadata": {},
   "source": [
    "# Preprocessing"
   ]
  },
  {
   "cell_type": "code",
   "execution_count": 2,
   "metadata": {
    "ExecuteTime": {
     "end_time": "2019-06-14T13:25:56.505936Z",
     "start_time": "2019-06-14T13:25:56.253979Z"
    },
    "scrolled": true
   },
   "outputs": [],
   "source": [
    "# Import dataset\n",
    "sample_data = pd.read_excel('sample.xlsx')\n",
    "\n",
    "sample_data = (sample_data - sample_data.mean())/sample_data.std()\n",
    "\n",
    "#setting the matrixes\n",
    "X = sample_data.iloc[:,0:2]\n",
    "ones = np.ones([X.shape[0],1])\n",
    "X = np.concatenate((ones,X),axis=1)\n",
    "\n",
    "y = sample_data.iloc[:,2:3].values #.values converts it from pandas.core.frame.DataFrame to numpy.ndarray"
   ]
  },
  {
   "cell_type": "code",
   "execution_count": 3,
   "metadata": {
    "ExecuteTime": {
     "end_time": "2019-06-14T13:25:57.956547Z",
     "start_time": "2019-06-14T13:25:57.737496Z"
    }
   },
   "outputs": [],
   "source": [
    "import GD_linear_regression as glr\n",
    "\n",
    "builder = glr.GDLinearRegression(iterations=2000)\n",
    "reg = builder.fit(X,y)\n",
    "predictions = reg.predict(X)\n",
    "costs = reg.costs\n",
    "thetas = reg.theta\n",
    "#fig, ax = plt.subplots()  \n",
    "#ax.plot(np.arange(reg.iterations), costs, 'r')  \n",
    "#ax.set_xlabel('Iterations')  \n",
    "#ax.set_ylabel('Cost')  \n",
    "#ax.set_title('Error vs. Training Epoch')  "
   ]
  },
  {
   "cell_type": "code",
   "execution_count": 4,
   "metadata": {
    "ExecuteTime": {
     "end_time": "2019-06-14T13:25:59.270189Z",
     "start_time": "2019-06-14T13:25:59.264205Z"
    }
   },
   "outputs": [
    {
     "data": {
      "text/plain": [
       "1845"
      ]
     },
     "execution_count": 4,
     "metadata": {},
     "output_type": "execute_result"
    }
   ],
   "source": [
    "len(costs)"
   ]
  },
  {
   "cell_type": "code",
   "execution_count": 5,
   "metadata": {
    "ExecuteTime": {
     "end_time": "2019-06-14T13:26:00.089933Z",
     "start_time": "2019-06-14T13:26:00.084946Z"
    }
   },
   "outputs": [
    {
     "data": {
      "text/plain": [
       "1845"
      ]
     },
     "execution_count": 5,
     "metadata": {},
     "output_type": "execute_result"
    }
   ],
   "source": [
    "len(thetas)"
   ]
  },
  {
   "cell_type": "code",
   "execution_count": 6,
   "metadata": {
    "ExecuteTime": {
     "end_time": "2019-06-14T13:26:05.964775Z",
     "start_time": "2019-06-14T13:26:05.957823Z"
    }
   },
   "outputs": [
    {
     "data": {
      "text/plain": [
       "array([[-1.10508529e-16,  8.84602740e-01, -5.30155716e-02]])"
      ]
     },
     "execution_count": 6,
     "metadata": {},
     "output_type": "execute_result"
    }
   ],
   "source": [
    "reg.theta[-1]"
   ]
  },
  {
   "cell_type": "code",
   "execution_count": 7,
   "metadata": {
    "ExecuteTime": {
     "end_time": "2019-06-14T13:26:06.425549Z",
     "start_time": "2019-06-14T13:26:06.419558Z"
    }
   },
   "outputs": [
    {
     "data": {
      "text/plain": [
       "0.13068649201637703"
      ]
     },
     "execution_count": 7,
     "metadata": {},
     "output_type": "execute_result"
    }
   ],
   "source": [
    "costs[-1]"
   ]
  },
  {
   "cell_type": "code",
   "execution_count": 8,
   "metadata": {
    "ExecuteTime": {
     "end_time": "2019-06-14T13:26:07.705109Z",
     "start_time": "2019-06-14T13:26:07.437373Z"
    }
   },
   "outputs": [
    {
     "data": {
      "image/png": "[encoded data removed]",
      "text/plain": [
       "<Figure size 432x288 with 1 Axes>"
      ]
     },
     "metadata": {
      "needs_background": "light"
     },
     "output_type": "display_data"
    }
   ],
   "source": [
    "plt.plot(costs)\n",
    "plt.show()"
   ]
  },
  {
   "cell_type": "code",
   "execution_count": 9,
   "metadata": {
    "ExecuteTime": {
     "end_time": "2019-06-14T13:26:21.189206Z",
     "start_time": "2019-06-14T13:26:21.185217Z"
    }
   },
   "outputs": [
    {
     "name": "stdout",
     "output_type": "stream",
     "text": [
      "(47, 3)\n",
      "(47, 1)\n"
     ]
    }
   ],
   "source": [
    "print(X.shape)\n",
    "print(y.shape)"
   ]
  },
  {
   "cell_type": "markdown",
   "metadata": {},
   "source": [
    "# Using Sklearn"
   ]
  },
  {
   "cell_type": "code",
   "execution_count": 8,
   "metadata": {
    "ExecuteTime": {
     "end_time": "2019-05-30T17:10:43.242857Z",
     "start_time": "2019-05-30T17:10:43.016954Z"
    }
   },
   "outputs": [],
   "source": [
    "from sklearn.linear_model import LinearRegression"
   ]
  },
  {
   "cell_type": "code",
   "execution_count": 9,
   "metadata": {
    "ExecuteTime": {
     "end_time": "2019-05-30T17:10:44.053389Z",
     "start_time": "2019-05-30T17:10:43.921190Z"
    }
   },
   "outputs": [],
   "source": [
    "reg = LinearRegression().fit(X, y)"
   ]
  },
  {
   "cell_type": "code",
   "execution_count": 10,
   "metadata": {
    "ExecuteTime": {
     "end_time": "2019-05-30T17:10:44.664282Z",
     "start_time": "2019-05-30T17:10:44.527642Z"
    }
   },
   "outputs": [
    {
     "name": "stdout",
     "output_type": "stream",
     "text": [
      "Y =  [[ 0.          0.88476599 -0.05317882]] *X +  [-9.2685233e-17]\n",
      "score  0.7329450180289143\n"
     ]
    }
   ],
   "source": [
    "print('Y = ',reg.coef_,'*X + ',reg.intercept_)\n",
    "print('score ', reg.score(X,y))"
   ]
  },
  {
   "cell_type": "code",
   "execution_count": null,
   "metadata": {},
   "outputs": [],
   "source": []
  }
 ],
 "metadata": {
  "kernelspec": {
   "display_name": "Python 3",
   "language": "python",
   "name": "python3"
  },
  "language_info": {
   "codemirror_mode": {
    "name": "ipython",
    "version": 3
   },
   "file_extension": ".py",
   "mimetype": "text/x-python",
   "name": "python",
   "nbconvert_exporter": "python",
   "pygments_lexer": "ipython3",
   "version": "3.7.0"
  },
  "varInspector": {
   "cols": {
    "lenName": 16,
    "lenType": 16,
    "lenVar": 40
   },
   "kernels_config": {
    "python": {
     "delete_cmd_postfix": "",
     "delete_cmd_prefix": "del ",
     "library": "var_list.py",
     "varRefreshCmd": "print(var_dic_list())"
    },
    "r": {
     "delete_cmd_postfix": ") ",
     "delete_cmd_prefix": "rm(",
     "library": "var_list.r",
     "varRefreshCmd": "cat(var_dic_list()) "
    }
   },
   "types_to_exclude": [
    "module",
    "function",
    "builtin_function_or_method",
    "instance",
    "_Feature"
   ],
   "window_display": false
  }
 },
 "nbformat": 4,
 "nbformat_minor": 2
}
